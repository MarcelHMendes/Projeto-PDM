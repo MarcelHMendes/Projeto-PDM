{
 "cells": [
  {
   "cell_type": "code",
   "execution_count": 1,
   "id": "3ededfba",
   "metadata": {},
   "outputs": [
    {
     "name": "stderr",
     "output_type": "stream",
     "text": [
      "22/02/17 19:54:02 WARN NativeCodeLoader: Unable to load native-hadoop library for your platform... using builtin-java classes where applicable\n",
      "Using Spark's default log4j profile: org/apache/spark/log4j-defaults.properties\n",
      "Setting default log level to \"WARN\".\n",
      "To adjust logging level use sc.setLogLevel(newLevel). For SparkR, use setLogLevel(newLevel).\n"
     ]
    }
   ],
   "source": [
    "from pyspark.sql import SparkSession\n",
    "\n",
    "spark = SparkSession.\\\n",
    "        builder.\\\n",
    "        appName(\"pyspark-notebook\").\\\n",
    "        master(\"spark://spark-master:7077\").\\\n",
    "        config(\"spark.executor.memory\", \"2g\").\\\n",
    "        getOrCreate()"
   ]
  },
  {
   "cell_type": "code",
   "execution_count": 2,
   "id": "b63fcdab",
   "metadata": {},
   "outputs": [
    {
     "name": "stderr",
     "output_type": "stream",
     "text": [
      "                                                                                \r"
     ]
    },
    {
     "name": "stdout",
     "output_type": "stream",
     "text": [
      "root\n",
      " |-- _c0: string (nullable = true)\n",
      " |-- Flow ID: string (nullable = true)\n",
      " |-- Src IP: string (nullable = true)\n",
      " |-- Src Port: string (nullable = true)\n",
      " |-- Dst IP: string (nullable = true)\n",
      " |-- Dst Port: string (nullable = true)\n",
      " |-- Protocol: string (nullable = true)\n",
      " |-- Timestamp: string (nullable = true)\n",
      " |-- Flow Duration: string (nullable = true)\n",
      " |-- Tot Fwd Pkts: string (nullable = true)\n",
      " |-- Tot Bwd Pkts: string (nullable = true)\n",
      " |-- TotLen Fwd Pkts: string (nullable = true)\n",
      " |-- TotLen Bwd Pkts: string (nullable = true)\n",
      " |-- Fwd Pkt Len Max: string (nullable = true)\n",
      " |-- Fwd Pkt Len Min: string (nullable = true)\n",
      " |-- Fwd Pkt Len Mean: string (nullable = true)\n",
      " |-- Fwd Pkt Len Std: string (nullable = true)\n",
      " |-- Bwd Pkt Len Max: string (nullable = true)\n",
      " |-- Bwd Pkt Len Min: string (nullable = true)\n",
      " |-- Bwd Pkt Len Mean: string (nullable = true)\n",
      " |-- Bwd Pkt Len Std: string (nullable = true)\n",
      " |-- Flow Byts/s: string (nullable = true)\n",
      " |-- Flow Pkts/s: string (nullable = true)\n",
      " |-- Flow IAT Mean: string (nullable = true)\n",
      " |-- Flow IAT Std: string (nullable = true)\n",
      " |-- Flow IAT Max: string (nullable = true)\n",
      " |-- Flow IAT Min: string (nullable = true)\n",
      " |-- Fwd IAT Tot: string (nullable = true)\n",
      " |-- Fwd IAT Mean: string (nullable = true)\n",
      " |-- Fwd IAT Std: string (nullable = true)\n",
      " |-- Fwd IAT Max: string (nullable = true)\n",
      " |-- Fwd IAT Min: string (nullable = true)\n",
      " |-- Bwd IAT Tot: string (nullable = true)\n",
      " |-- Bwd IAT Mean: string (nullable = true)\n",
      " |-- Bwd IAT Std: string (nullable = true)\n",
      " |-- Bwd IAT Max: string (nullable = true)\n",
      " |-- Bwd IAT Min: string (nullable = true)\n",
      " |-- Fwd PSH Flags: string (nullable = true)\n",
      " |-- Bwd PSH Flags: string (nullable = true)\n",
      " |-- Fwd URG Flags: string (nullable = true)\n",
      " |-- Bwd URG Flags: string (nullable = true)\n",
      " |-- Fwd Header Len: string (nullable = true)\n",
      " |-- Bwd Header Len: string (nullable = true)\n",
      " |-- Fwd Pkts/s: string (nullable = true)\n",
      " |-- Bwd Pkts/s: string (nullable = true)\n",
      " |-- Pkt Len Min: string (nullable = true)\n",
      " |-- Pkt Len Max: string (nullable = true)\n",
      " |-- Pkt Len Mean: string (nullable = true)\n",
      " |-- Pkt Len Std: string (nullable = true)\n",
      " |-- Pkt Len Var: string (nullable = true)\n",
      " |-- FIN Flag Cnt: string (nullable = true)\n",
      " |-- SYN Flag Cnt: string (nullable = true)\n",
      " |-- RST Flag Cnt: string (nullable = true)\n",
      " |-- PSH Flag Cnt: string (nullable = true)\n",
      " |-- ACK Flag Cnt: string (nullable = true)\n",
      " |-- URG Flag Cnt: string (nullable = true)\n",
      " |-- CWE Flag Count: string (nullable = true)\n",
      " |-- ECE Flag Cnt: string (nullable = true)\n",
      " |-- Down/Up Ratio: string (nullable = true)\n",
      " |-- Pkt Size Avg: string (nullable = true)\n",
      " |-- Fwd Seg Size Avg: string (nullable = true)\n",
      " |-- Bwd Seg Size Avg: string (nullable = true)\n",
      " |-- Fwd Byts/b Avg: string (nullable = true)\n",
      " |-- Fwd Pkts/b Avg: string (nullable = true)\n",
      " |-- Fwd Blk Rate Avg: string (nullable = true)\n",
      " |-- Bwd Byts/b Avg: string (nullable = true)\n",
      " |-- Bwd Pkts/b Avg: string (nullable = true)\n",
      " |-- Bwd Blk Rate Avg: string (nullable = true)\n",
      " |-- Subflow Fwd Pkts: string (nullable = true)\n",
      " |-- Subflow Fwd Byts: string (nullable = true)\n",
      " |-- Subflow Bwd Pkts: string (nullable = true)\n",
      " |-- Subflow Bwd Byts: string (nullable = true)\n",
      " |-- Init Fwd Win Byts: string (nullable = true)\n",
      " |-- Init Bwd Win Byts: string (nullable = true)\n",
      " |-- Fwd Act Data Pkts: string (nullable = true)\n",
      " |-- Fwd Seg Size Min: string (nullable = true)\n",
      " |-- Active Mean: string (nullable = true)\n",
      " |-- Active Std: string (nullable = true)\n",
      " |-- Active Max: string (nullable = true)\n",
      " |-- Active Min: string (nullable = true)\n",
      " |-- Idle Mean: string (nullable = true)\n",
      " |-- Idle Std: string (nullable = true)\n",
      " |-- Idle Max: string (nullable = true)\n",
      " |-- Idle Min: string (nullable = true)\n",
      " |-- Label: string (nullable = true)\n",
      "\n"
     ]
    }
   ],
   "source": [
    "df = spark.read.option(\"header\", \"true\").csv(\"data/final_dataset.csv\")\n",
    "df.printSchema()"
   ]
  },
  {
   "cell_type": "code",
   "execution_count": 3,
   "id": "4ccb13d4",
   "metadata": {},
   "outputs": [
    {
     "name": "stderr",
     "output_type": "stream",
     "text": [
      "                                                                                \r"
     ]
    }
   ],
   "source": [
    "from pyspark.sql.functions import col\n",
    "from pyspark.ml.feature import QuantileDiscretizer\n",
    "from pyspark.sql.types import IntegerType\n",
    "\n",
    "df = df.where(col(\"Flow Duration\").isNotNull())\n",
    "df = df.withColumn(\"Flow Duration\",col(\"Flow Duration\").cast(IntegerType()))\n",
    "discretizer = QuantileDiscretizer(numBuckets=5, inputCol=\"Flow Duration\", outputCol=\"flow_dur\")\n",
    "\n",
    "df = discretizer.fit(df).transform(df)\n",
    "#df.show()"
   ]
  },
  {
   "cell_type": "code",
   "execution_count": null,
   "id": "fb634107",
   "metadata": {},
   "outputs": [],
   "source": [
    "import sys\n",
    "!{sys.executable} -m pip install numpy\n",
    "!{sys.executable} -m pip install pandas"
   ]
  },
  {
   "cell_type": "code",
   "execution_count": 4,
   "id": "2f1b8d10",
   "metadata": {},
   "outputs": [],
   "source": [
    "from pyspark.sql.functions import split, explode, col, desc\n",
    "from pyspark.ml import Pipeline \n",
    "from pyspark.ml.feature import VectorAssembler \n",
    "from pyspark.ml.feature import StringIndexer \n",
    "from pyspark.ml.classification import NaiveBayes \n",
    "from pyspark.ml.evaluation import MulticlassClassificationEvaluator\n",
    "\n",
    "indexers = [\n",
    "StringIndexer(inputCol=\"Dst IP\", outputCol = \"dstip_index\"),\n",
    "StringIndexer(inputCol=\"Dst Port\", outputCol = \"dstport_index\"),\n",
    "StringIndexer(inputCol=\"FIN Flag Cnt\", outputCol = \"fin_index\"),\n",
    "StringIndexer(inputCol=\"SYN Flag Cnt\", outputCol = \"syn_index\"),\n",
    "StringIndexer(inputCol=\"URG Flag Cnt\", outputCol = \"urg_index\"),\n",
    "StringIndexer(inputCol=\"PSH Flag Cnt\", outputCol = \"cwe_index\"),\n",
    "StringIndexer(inputCol=\"ECE Flag Cnt\", outputCol = \"ece_index\"),\n",
    "#StringIndexer(inputCol=\"flow_dur\", outputCol = \"flowdur_index\"),\n",
    "StringIndexer(inputCol=\"Label\", outputCol = \"label\")]"
   ]
  },
  {
   "cell_type": "code",
   "execution_count": 5,
   "id": "ca3a3e48",
   "metadata": {},
   "outputs": [
    {
     "name": "stderr",
     "output_type": "stream",
     "text": [
      "22/02/17 21:02:22 WARN package: Truncated the string representation of a plan since it was too large. This behavior can be adjusted by setting 'spark.sql.debug.maxToStringFields'.\n",
      "                                                                                \r"
     ]
    }
   ],
   "source": [
    "pipeline = Pipeline(stages=indexers)\n",
    "df = df.select(\"Dst IP\", \n",
    "               \"Dst Port\",\n",
    "               \"FIN Flag Cnt\", \n",
    "               \"SYN Flag Cnt\", \n",
    "               \"URG Flag Cnt\",\n",
    "               \"PSH Flag Cnt\",\n",
    "               \"ECE Flag Cnt\",\n",
    "#               \"flow_dur\",\n",
    "               \"Label\"\n",
    "              )\n",
    "#df = df.sample(fraction=0.3)\n",
    "indexed_rows_df = pipeline.fit(df).transform(df)\n",
    "#indexed_rows_df.show(5, False)"
   ]
  },
  {
   "cell_type": "code",
   "execution_count": 9,
   "id": "e8efc80a",
   "metadata": {},
   "outputs": [],
   "source": [
    "vectorAssembler = VectorAssembler(inputCols = [\"dstip_index\",\"dstport_index\",\"fin_index\", \"syn_index\", \"urg_index\", \"cwe_index\",\"ece_index\"],outputCol = \"features\")\n",
    "vindexed_rows_df = vectorAssembler.transform(indexed_rows_df)\n",
    "#vindexed_rows_df.show(5, False)"
   ]
  },
  {
   "cell_type": "code",
   "execution_count": 7,
   "id": "b16a1857",
   "metadata": {},
   "outputs": [],
   "source": [
    "splits = vindexed_rows_df.randomSplit([0.6,0.4], 42) \n",
    "# optional value 42 is seed for sampling \n",
    "train_df = splits[0] \n",
    "test_df = splits[1]"
   ]
  },
  {
   "cell_type": "code",
   "execution_count": 8,
   "id": "0dd88c47",
   "metadata": {},
   "outputs": [
    {
     "name": "stderr",
     "output_type": "stream",
     "text": [
      "22/02/17 21:12:22 WARN DAGScheduler: Broadcasting large task binary with size 3.1 MiB\n",
      "22/02/17 21:13:50 WARN DAGScheduler: Broadcasting large task binary with size 3.1 MiB\n",
      "                                                                                \r"
     ]
    }
   ],
   "source": [
    "nb = NaiveBayes(modelType=\"multinomial\")\n",
    "nbmodel = nb.fit(train_df)"
   ]
  },
  {
   "cell_type": "code",
   "execution_count": 10,
   "id": "bac691d5",
   "metadata": {},
   "outputs": [],
   "source": [
    "predictions_df = nbmodel.transform(test_df)\n",
    "#predictions_df.show(5, True)"
   ]
  },
  {
   "cell_type": "code",
   "execution_count": 11,
   "id": "ccae6586",
   "metadata": {},
   "outputs": [
    {
     "name": "stderr",
     "output_type": "stream",
     "text": [
      "22/02/17 21:14:07 WARN DAGScheduler: Broadcasting large task binary with size 3.1 MiB\n",
      "                                                                                \r"
     ]
    },
    {
     "name": "stdout",
     "output_type": "stream",
     "text": [
      "Test accuracy = 0.8377855007425652\n"
     ]
    },
    {
     "name": "stderr",
     "output_type": "stream",
     "text": [
      "22/02/17 21:15:36 WARN DAGScheduler: Broadcasting large task binary with size 3.1 MiB\n",
      "[Stage 23:======================================================> (50 + 1) / 51]\r"
     ]
    },
    {
     "name": "stdout",
     "output_type": "stream",
     "text": [
      "F1 score = 0.8365096503902231\n"
     ]
    },
    {
     "name": "stderr",
     "output_type": "stream",
     "text": [
      "                                                                                \r"
     ]
    }
   ],
   "source": [
    "evaluator = MulticlassClassificationEvaluator(labelCol=\"label\", predictionCol=\"prediction\", metricName=\"accuracy\") \n",
    "nbaccuracy = evaluator.evaluate(predictions_df) \n",
    "print(\"Test accuracy = \" + str(nbaccuracy))\n",
    "evaluator = MulticlassClassificationEvaluator(labelCol=\"label\", predictionCol=\"prediction\", metricName=\"f1\")\n",
    "nbf1 = evaluator.evaluate(predictions_df) \n",
    "print(\"F1 score = \" + str(nbf1))"
   ]
  },
  {
   "cell_type": "code",
   "execution_count": null,
   "id": "e3504818",
   "metadata": {},
   "outputs": [],
   "source": []
  }
 ],
 "metadata": {
  "kernelspec": {
   "display_name": "Python 3 (ipykernel)",
   "language": "python",
   "name": "python3"
  },
  "language_info": {
   "codemirror_mode": {
    "name": "ipython",
    "version": 3
   },
   "file_extension": ".py",
   "mimetype": "text/x-python",
   "name": "python",
   "nbconvert_exporter": "python",
   "pygments_lexer": "ipython3",
   "version": "3.9.2"
  }
 },
 "nbformat": 4,
 "nbformat_minor": 5
}
