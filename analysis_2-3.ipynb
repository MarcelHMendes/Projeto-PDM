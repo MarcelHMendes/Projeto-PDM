{
 "cells": [
  {
   "cell_type": "code",
   "execution_count": 1,
   "id": "0433565d",
   "metadata": {},
   "outputs": [
    {
     "name": "stderr",
     "output_type": "stream",
     "text": [
      "22/02/17 23:37:09 WARN NativeCodeLoader: Unable to load native-hadoop library for your platform... using builtin-java classes where applicable\n",
      "Using Spark's default log4j profile: org/apache/spark/log4j-defaults.properties\n",
      "Setting default log level to \"WARN\".\n",
      "To adjust logging level use sc.setLogLevel(newLevel). For SparkR, use setLogLevel(newLevel).\n"
     ]
    }
   ],
   "source": [
    "from pyspark.sql import SparkSession\n",
    "\n",
    "spark = SparkSession.\\\n",
    "        builder.\\\n",
    "        appName(\"pyspark-notebook\").\\\n",
    "        master(\"spark://spark-master:7077\").\\\n",
    "        config(\"spark.executor.memory\", \"2g\").\\\n",
    "        getOrCreate()"
   ]
  },
  {
   "cell_type": "code",
   "execution_count": 2,
   "id": "f2f9901a",
   "metadata": {},
   "outputs": [
    {
     "name": "stderr",
     "output_type": "stream",
     "text": [
      "                                                                                \r"
     ]
    }
   ],
   "source": [
    "df = spark.read.option(\"header\", \"true\").csv(\"data/final_dataset.csv\")\n",
    "#df.printSchema()"
   ]
  },
  {
   "cell_type": "code",
   "execution_count": 3,
   "id": "09d02e6e",
   "metadata": {},
   "outputs": [],
   "source": [
    "from pyspark.sql.functions import split, explode, col, desc\n",
    "from pyspark.ml import Pipeline \n",
    "from pyspark.ml.feature import VectorAssembler \n",
    "from pyspark.ml.feature import StringIndexer  \n",
    "from pyspark.ml.evaluation import MulticlassClassificationEvaluator\n",
    "\n",
    "indexers = [\n",
    "#StringIndexer(inputCol=\"Dst IP\", outputCol = \"dstip_index\"),\n",
    "StringIndexer(inputCol=\"Dst Port\", outputCol = \"dstport_index\"),\n",
    "StringIndexer(inputCol=\"FIN Flag Cnt\", outputCol = \"fin_index\"),\n",
    "StringIndexer(inputCol=\"SYN Flag Cnt\", outputCol = \"syn_index\"),\n",
    "StringIndexer(inputCol=\"URG Flag Cnt\", outputCol = \"urg_index\"),\n",
    "StringIndexer(inputCol=\"PSH Flag Cnt\", outputCol = \"cwe_index\"),\n",
    "StringIndexer(inputCol=\"ECE Flag Cnt\", outputCol = \"ece_index\"),\n",
    "#StringIndexer(inputCol=\"flow_dur\", outputCol = \"flowdur_index\"),\n",
    "StringIndexer(inputCol=\"Label\", outputCol = \"label\")]"
   ]
  },
  {
   "cell_type": "code",
   "execution_count": 4,
   "id": "4510a587",
   "metadata": {},
   "outputs": [
    {
     "name": "stderr",
     "output_type": "stream",
     "text": [
      "22/02/17 23:38:05 WARN package: Truncated the string representation of a plan since it was too large. This behavior can be adjusted by setting 'spark.sql.debug.maxToStringFields'.\n",
      "                                                                                \r"
     ]
    }
   ],
   "source": [
    "pipeline = Pipeline(stages=indexers)\n",
    "df = df.select(#\"Dst IP\", \n",
    "               \"Dst Port\",\n",
    "               \"FIN Flag Cnt\", \n",
    "               \"SYN Flag Cnt\", \n",
    "               \"URG Flag Cnt\",\n",
    "               \"PSH Flag Cnt\",\n",
    "               \"ECE Flag Cnt\",\n",
    "#               \"flow_dur\",\n",
    "               \"Label\"\n",
    "              ).where(  (col(\"Dst Port\") == \"80\") \n",
    "                      | (col(\"Dst Port\") == \"22\")  \n",
    "                      | (col(\"Dst Port\") == \"443\") \n",
    "                      | (col(\"Dst Port\") == \"53\")\n",
    "                      | (col(\"Dst Port\") == \"25\")\n",
    "                      | (col(\"Dst Port\") == \"139\")\n",
    "                      | (col(\"Dst Port\") == \"445\")\n",
    "                      | (col(\"Dst Port\") == \"1433\")\n",
    "                      | (col(\"Dst Port\") == \"1434\")\n",
    "                      | (col(\"Dst Port\") == \"3389\"))\n",
    "#df = df.sample(fraction=0.3)\n",
    "indexed_rows_df = pipeline.fit(df).transform(df)\n",
    "#indexed_rows_df.show(5, False)"
   ]
  },
  {
   "cell_type": "code",
   "execution_count": 5,
   "id": "c6e62afc",
   "metadata": {},
   "outputs": [],
   "source": [
    "vectorAssembler = VectorAssembler(inputCols = [\"dstport_index\",\"fin_index\", \"syn_index\", \"urg_index\", \"cwe_index\",\"ece_index\"],outputCol = \"features\")\n",
    "vindexed_rows_df = vectorAssembler.transform(indexed_rows_df)\n",
    "#vindexed_rows_df.show(5, False)"
   ]
  },
  {
   "cell_type": "code",
   "execution_count": 6,
   "id": "d2e700fc",
   "metadata": {},
   "outputs": [],
   "source": [
    "splits = vindexed_rows_df.randomSplit([0.6,0.4], 42) \n",
    "# optional value 42 is seed for sampling \n",
    "train_df = splits[0] \n",
    "test_df = splits[1]"
   ]
  },
  {
   "cell_type": "code",
   "execution_count": 7,
   "id": "9f73c90e",
   "metadata": {},
   "outputs": [
    {
     "name": "stderr",
     "output_type": "stream",
     "text": [
      "                                                                                \r"
     ]
    }
   ],
   "source": [
    "from pyspark.ml.classification import DecisionTreeClassifier\n",
    "\n",
    "dtc = DecisionTreeClassifier(featuresCol=\"features\", labelCol=\"label\")\n",
    "dtc = dtc.fit(train_df)"
   ]
  },
  {
   "cell_type": "code",
   "execution_count": 8,
   "id": "a0962b73",
   "metadata": {},
   "outputs": [
    {
     "name": "stderr",
     "output_type": "stream",
     "text": [
      "[Stage 27:>                                                         (0 + 1) / 1]\r"
     ]
    },
    {
     "name": "stdout",
     "output_type": "stream",
     "text": [
      "+--------+------------+------------+------------+------------+------------+-----+-------------+---------+---------+---------+---------+---------+-------------+----------------+--------------------+----------+\n",
      "|Dst Port|FIN Flag Cnt|SYN Flag Cnt|URG Flag Cnt|PSH Flag Cnt|ECE Flag Cnt|label|dstport_index|fin_index|syn_index|urg_index|cwe_index|ece_index|     features|   rawPrediction|         probability|prediction|\n",
      "+--------+------------+------------+------------+------------+------------+-----+-------------+---------+---------+---------+---------+---------+-------------+----------------+--------------------+----------+\n",
      "|     443|           0|           0|           0|           0|           0|  1.0|          2.0|      0.0|      0.0|      0.0|      0.0|      0.0|(6,[0],[2.0])|[2666910.0,72.0]|[0.99997300319237...|       0.0|\n",
      "|     443|           0|           0|           0|           0|           0|  1.0|          2.0|      0.0|      0.0|      0.0|      0.0|      0.0|(6,[0],[2.0])|[2666910.0,72.0]|[0.99997300319237...|       0.0|\n",
      "|     443|           0|           0|           0|           0|           0|  1.0|          2.0|      0.0|      0.0|      0.0|      0.0|      0.0|(6,[0],[2.0])|[2666910.0,72.0]|[0.99997300319237...|       0.0|\n",
      "+--------+------------+------------+------------+------------+------------+-----+-------------+---------+---------+---------+---------+---------+-------------+----------------+--------------------+----------+\n",
      "only showing top 3 rows\n",
      "\n"
     ]
    },
    {
     "name": "stderr",
     "output_type": "stream",
     "text": [
      "                                                                                \r"
     ]
    }
   ],
   "source": [
    "predictions_df = dtc.transform(test_df)\n",
    "predictions_df.show(3)\n"
   ]
  },
  {
   "cell_type": "code",
   "execution_count": 9,
   "id": "d9cdfc1c",
   "metadata": {},
   "outputs": [
    {
     "name": "stderr",
     "output_type": "stream",
     "text": [
      "                                                                                \r"
     ]
    },
    {
     "name": "stdout",
     "output_type": "stream",
     "text": [
      "Test accuracy = 0.9377935817088255\n"
     ]
    },
    {
     "name": "stderr",
     "output_type": "stream",
     "text": [
      "[Stage 30:======================================================> (50 + 1) / 51]\r"
     ]
    },
    {
     "name": "stdout",
     "output_type": "stream",
     "text": [
      "F1 score = 0.9382120420699116\n"
     ]
    },
    {
     "name": "stderr",
     "output_type": "stream",
     "text": [
      "                                                                                \r"
     ]
    }
   ],
   "source": [
    "evaluator = MulticlassClassificationEvaluator(predictionCol=\"prediction\", metricName=\"accuracy\") \n",
    "nbaccuracy = evaluator.evaluate(predictions_df) \n",
    "print(\"Test accuracy = \" + str(nbaccuracy))\n",
    "evaluator = MulticlassClassificationEvaluator(predictionCol=\"prediction\", metricName=\"f1\")\n",
    "nbf1 = evaluator.evaluate(predictions_df) \n",
    "print(\"F1 score = \" + str(nbf1))"
   ]
  },
  {
   "cell_type": "code",
   "execution_count": null,
   "id": "d196eb94",
   "metadata": {},
   "outputs": [],
   "source": []
  }
 ],
 "metadata": {
  "kernelspec": {
   "display_name": "Python 3 (ipykernel)",
   "language": "python",
   "name": "python3"
  },
  "language_info": {
   "codemirror_mode": {
    "name": "ipython",
    "version": 3
   },
   "file_extension": ".py",
   "mimetype": "text/x-python",
   "name": "python",
   "nbconvert_exporter": "python",
   "pygments_lexer": "ipython3",
   "version": "3.9.2"
  }
 },
 "nbformat": 4,
 "nbformat_minor": 5
}
