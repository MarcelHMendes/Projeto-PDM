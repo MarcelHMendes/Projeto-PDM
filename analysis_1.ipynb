{
 "cells": [
  {
   "cell_type": "code",
   "execution_count": 1,
   "id": "080f9c17",
   "metadata": {},
   "outputs": [
    {
     "name": "stderr",
     "output_type": "stream",
     "text": [
      "22/02/03 16:48:49 WARN NativeCodeLoader: Unable to load native-hadoop library for your platform... using builtin-java classes where applicable\n",
      "Using Spark's default log4j profile: org/apache/spark/log4j-defaults.properties\n",
      "Setting default log level to \"WARN\".\n",
      "To adjust logging level use sc.setLogLevel(newLevel). For SparkR, use setLogLevel(newLevel).\n"
     ]
    }
   ],
   "source": [
    "from pyspark.sql import SparkSession\n",
    "\n",
    "spark = SparkSession.\\\n",
    "        builder.\\\n",
    "        appName(\"pyspark-notebook\").\\\n",
    "        master(\"spark://spark-master:7077\").\\\n",
    "        config(\"spark.executor.memory\", \"1g\").\\\n",
    "        getOrCreate()"
   ]
  },
  {
   "cell_type": "code",
   "execution_count": 12,
   "id": "9adfeb55",
   "metadata": {},
   "outputs": [
    {
     "name": "stdout",
     "output_type": "stream",
     "text": [
      "root\n",
      " |-- _c0: string (nullable = true)\n",
      " |-- Flow ID: string (nullable = true)\n",
      " |-- Src IP: string (nullable = true)\n",
      " |-- Src Port: string (nullable = true)\n",
      " |-- Dst IP: string (nullable = true)\n",
      " |-- Dst Port: string (nullable = true)\n",
      " |-- Protocol: string (nullable = true)\n",
      " |-- Timestamp: string (nullable = true)\n",
      " |-- Flow Duration: string (nullable = true)\n",
      " |-- Tot Fwd Pkts: string (nullable = true)\n",
      " |-- Tot Bwd Pkts: string (nullable = true)\n",
      " |-- TotLen Fwd Pkts: string (nullable = true)\n",
      " |-- TotLen Bwd Pkts: string (nullable = true)\n",
      " |-- Fwd Pkt Len Max: string (nullable = true)\n",
      " |-- Fwd Pkt Len Min: string (nullable = true)\n",
      " |-- Fwd Pkt Len Mean: string (nullable = true)\n",
      " |-- Fwd Pkt Len Std: string (nullable = true)\n",
      " |-- Bwd Pkt Len Max: string (nullable = true)\n",
      " |-- Bwd Pkt Len Min: string (nullable = true)\n",
      " |-- Bwd Pkt Len Mean: string (nullable = true)\n",
      " |-- Bwd Pkt Len Std: string (nullable = true)\n",
      " |-- Flow Byts/s: string (nullable = true)\n",
      " |-- Flow Pkts/s: string (nullable = true)\n",
      " |-- Flow IAT Mean: string (nullable = true)\n",
      " |-- Flow IAT Std: string (nullable = true)\n",
      " |-- Flow IAT Max: string (nullable = true)\n",
      " |-- Flow IAT Min: string (nullable = true)\n",
      " |-- Fwd IAT Tot: string (nullable = true)\n",
      " |-- Fwd IAT Mean: string (nullable = true)\n",
      " |-- Fwd IAT Std: string (nullable = true)\n",
      " |-- Fwd IAT Max: string (nullable = true)\n",
      " |-- Fwd IAT Min: string (nullable = true)\n",
      " |-- Bwd IAT Tot: string (nullable = true)\n",
      " |-- Bwd IAT Mean: string (nullable = true)\n",
      " |-- Bwd IAT Std: string (nullable = true)\n",
      " |-- Bwd IAT Max: string (nullable = true)\n",
      " |-- Bwd IAT Min: string (nullable = true)\n",
      " |-- Fwd PSH Flags: string (nullable = true)\n",
      " |-- Bwd PSH Flags: string (nullable = true)\n",
      " |-- Fwd URG Flags: string (nullable = true)\n",
      " |-- Bwd URG Flags: string (nullable = true)\n",
      " |-- Fwd Header Len: string (nullable = true)\n",
      " |-- Bwd Header Len: string (nullable = true)\n",
      " |-- Fwd Pkts/s: string (nullable = true)\n",
      " |-- Bwd Pkts/s: string (nullable = true)\n",
      " |-- Pkt Len Min: string (nullable = true)\n",
      " |-- Pkt Len Max: string (nullable = true)\n",
      " |-- Pkt Len Mean: string (nullable = true)\n",
      " |-- Pkt Len Std: string (nullable = true)\n",
      " |-- Pkt Len Var: string (nullable = true)\n",
      " |-- FIN Flag Cnt: string (nullable = true)\n",
      " |-- SYN Flag Cnt: string (nullable = true)\n",
      " |-- RST Flag Cnt: string (nullable = true)\n",
      " |-- PSH Flag Cnt: string (nullable = true)\n",
      " |-- ACK Flag Cnt: string (nullable = true)\n",
      " |-- URG Flag Cnt: string (nullable = true)\n",
      " |-- CWE Flag Count: string (nullable = true)\n",
      " |-- ECE Flag Cnt: string (nullable = true)\n",
      " |-- Down/Up Ratio: string (nullable = true)\n",
      " |-- Pkt Size Avg: string (nullable = true)\n",
      " |-- Fwd Seg Size Avg: string (nullable = true)\n",
      " |-- Bwd Seg Size Avg: string (nullable = true)\n",
      " |-- Fwd Byts/b Avg: string (nullable = true)\n",
      " |-- Fwd Pkts/b Avg: string (nullable = true)\n",
      " |-- Fwd Blk Rate Avg: string (nullable = true)\n",
      " |-- Bwd Byts/b Avg: string (nullable = true)\n",
      " |-- Bwd Pkts/b Avg: string (nullable = true)\n",
      " |-- Bwd Blk Rate Avg: string (nullable = true)\n",
      " |-- Subflow Fwd Pkts: string (nullable = true)\n",
      " |-- Subflow Fwd Byts: string (nullable = true)\n",
      " |-- Subflow Bwd Pkts: string (nullable = true)\n",
      " |-- Subflow Bwd Byts: string (nullable = true)\n",
      " |-- Init Fwd Win Byts: string (nullable = true)\n",
      " |-- Init Bwd Win Byts: string (nullable = true)\n",
      " |-- Fwd Act Data Pkts: string (nullable = true)\n",
      " |-- Fwd Seg Size Min: string (nullable = true)\n",
      " |-- Active Mean: string (nullable = true)\n",
      " |-- Active Std: string (nullable = true)\n",
      " |-- Active Max: string (nullable = true)\n",
      " |-- Active Min: string (nullable = true)\n",
      " |-- Idle Mean: string (nullable = true)\n",
      " |-- Idle Std: string (nullable = true)\n",
      " |-- Idle Max: string (nullable = true)\n",
      " |-- Idle Min: string (nullable = true)\n",
      " |-- Label: string (nullable = true)\n",
      "\n"
     ]
    }
   ],
   "source": [
    "df = spark.read.option(\"header\", \"true\").csv(\"data/ddos/ddos_imbalanced/*.csv\")\n",
    "df.printSchema()"
   ]
  },
  {
   "cell_type": "code",
   "execution_count": 37,
   "id": "ae424ae4",
   "metadata": {},
   "outputs": [
    {
     "name": "stdout",
     "output_type": "stream",
     "text": [
      "+--------------+--------+-------------+--------+-------+\n",
      "|        Src IP|Dst Port|       Dst Ip|Protocol|    _c0|\n",
      "+--------------+--------+-------------+--------+-------+\n",
      "| 18.219.193.20|      80| 172.31.69.25|       6|1739476|\n",
      "|  172.31.69.28|   63287|   18.219.9.1|       6|1822666|\n",
      "| 52.14.136.135|      80| 172.31.69.28|       6| 905739|\n",
      "|18.216.200.189|      80| 172.31.69.28|       6|1143064|\n",
      "|  172.31.69.28|   57459|18.218.55.126|       6|1934016|\n",
      "|  172.31.69.28|   56276|   18.219.9.1|       6|1916750|\n",
      "|  172.31.69.25|   40594|18.219.193.20|       6|2170484|\n",
      "|  172.31.69.28|   53734|  18.219.5.43|       6|1891912|\n",
      "| 18.219.193.20|      80| 172.31.69.25|       6| 262892|\n",
      "| 18.219.193.20|      80| 172.31.69.25|       6| 170886|\n",
      "| 18.219.193.20|      80| 172.31.69.25|       6| 847148|\n",
      "|  172.31.69.25|   56310|18.219.193.20|       6|3142101|\n",
      "|  172.31.69.25|   41060|18.219.193.20|       6|2964667|\n",
      "|  172.31.69.25|   48258|18.219.193.20|       6|2845398|\n",
      "| 18.219.193.20|      80| 172.31.69.25|       6|1661439|\n",
      "|  172.31.69.28|   64285|18.218.55.126|       6|1346670|\n",
      "| 18.219.193.20|      80| 172.31.69.25|       6|1700729|\n",
      "|  172.31.69.25|   35928|18.219.193.20|       6|2585319|\n",
      "|  172.31.69.25|   54882|18.219.193.20|       6|3151335|\n",
      "|    18.219.9.1|      80| 172.31.69.28|       6|1006757|\n",
      "+--------------+--------+-------------+--------+-------+\n",
      "only showing top 20 rows\n",
      "\n"
     ]
    }
   ],
   "source": [
    "df = df.select(\"Src IP\", \"Dst Port\", \"Dst Ip\", \"Protocol\", \"_c0\")\n",
    "df.show()"
   ]
  },
  {
   "cell_type": "code",
   "execution_count": 38,
   "id": "e1a87a8a",
   "metadata": {},
   "outputs": [
    {
     "name": "stderr",
     "output_type": "stream",
     "text": [
      "                                                                                \r"
     ]
    },
    {
     "name": "stdout",
     "output_type": "stream",
     "text": [
      "+---------------+--------+-------+\n",
      "|         Dst IP|Dst Port|  count|\n",
      "+---------------+--------+-------+\n",
      "|     172.31.0.2|      53|1965938|\n",
      "|   172.31.69.25|      80| 475283|\n",
      "|169.254.169.254|      80| 439436|\n",
      "|   172.31.69.28|      80| 250274|\n",
      "|   192.168.10.3|      53| 118089|\n",
      "|        8.0.6.4|       0|  75213|\n",
      "|   192.168.10.1|      53|  53501|\n",
      "|   178.255.83.1|      80|  39014|\n",
      "|    72.21.91.29|      80|  32189|\n",
      "|    23.52.91.27|      80|  29655|\n",
      "|   172.31.69.25|      21|  21245|\n",
      "| 72.167.239.239|      80|  19375|\n",
      "|    224.0.0.252|    5355|  14848|\n",
      "|   23.218.62.30|     443|  14448|\n",
      "|    31.13.65.36|     443|  13182|\n",
      "|     31.13.65.7|     443|  12980|\n",
      "|  172.31.64.103|    3128|  12825|\n",
      "| 216.58.211.162|     443|  10667|\n",
      "|  216.58.198.66|     443|  10433|\n",
      "|  13.89.190.129|     443|   9328|\n",
      "+---------------+--------+-------+\n",
      "only showing top 20 rows\n",
      "\n"
     ]
    },
    {
     "name": "stderr",
     "output_type": "stream",
     "text": [
      "                                                                                \r"
     ]
    },
    {
     "name": "stdout",
     "output_type": "stream",
     "text": [
      "+---------------+-------+\n",
      "|         Dst IP|  count|\n",
      "+---------------+-------+\n",
      "|     172.31.0.2|1965938|\n",
      "|   172.31.69.25| 496984|\n",
      "|169.254.169.254| 439436|\n",
      "|  18.219.193.20| 352981|\n",
      "|   172.31.69.28| 255294|\n",
      "|   192.168.10.3| 121753|\n",
      "|        8.0.6.4|  75213|\n",
      "|   192.168.10.1|  53503|\n",
      "|   178.255.83.1|  39014|\n",
      "|    72.21.91.29|  32190|\n",
      "|  192.168.10.25|  31134|\n",
      "|    23.52.91.27|  29655|\n",
      "|   23.218.62.30|  21981|\n",
      "| 72.167.239.239|  19375|\n",
      "|  172.31.64.103|  19246|\n",
      "| 18.218.229.235|  18757|\n",
      "| 18.216.200.189|  18615|\n",
      "|  18.218.55.126|  18568|\n",
      "|  18.218.115.60|  18536|\n",
      "|     18.219.9.1|  18488|\n",
      "+---------------+-------+\n",
      "only showing top 20 rows\n",
      "\n"
     ]
    },
    {
     "name": "stderr",
     "output_type": "stream",
     "text": [
      "                                                                                \r"
     ]
    },
    {
     "name": "stdout",
     "output_type": "stream",
     "text": [
      "+--------------+------+\n",
      "|        Src IP| count|\n",
      "+--------------+------+\n",
      "|  172.31.69.25|353808|\n",
      "| 18.219.193.20|348970|\n",
      "|  172.31.69.28|194822|\n",
      "|       8.6.0.1| 75213|\n",
      "|  192.168.10.3| 54116|\n",
      "| 192.168.10.25| 46393|\n",
      "|  192.168.10.5| 39035|\n",
      "|18.218.229.235| 37035|\n",
      "|18.216.200.189| 36992|\n",
      "|  18.218.11.51| 36770|\n",
      "|    18.219.9.1| 36758|\n",
      "|  18.216.24.42| 36721|\n",
      "|   18.219.5.43| 36460|\n",
      "| 52.14.136.135| 36402|\n",
      "| 18.218.55.126| 36363|\n",
      "|  18.219.32.43| 36356|\n",
      "| 18.218.115.60| 36126|\n",
      "|  212.92.116.6| 35115|\n",
      "| 212.92.114.68| 32859|\n",
      "|  37.46.246.28| 32847|\n",
      "+--------------+------+\n",
      "only showing top 20 rows\n",
      "\n"
     ]
    },
    {
     "name": "stderr",
     "output_type": "stream",
     "text": [
      "                                                                                \r"
     ]
    },
    {
     "name": "stdout",
     "output_type": "stream",
     "text": [
      "+--------+-------+\n",
      "|Dst Port|  count|\n",
      "+--------+-------+\n",
      "|      53|2137540|\n",
      "|      80|1472708|\n",
      "|     443|1089062|\n",
      "|    3389| 872249|\n",
      "|     445| 344276|\n",
      "|       0| 115562|\n",
      "|      21|  22211|\n",
      "|    5355|  14851|\n",
      "|    3128|  12830|\n",
      "|     123|  11973|\n",
      "|     137|   8304|\n",
      "|      67|   6499|\n",
      "|      22|   3686|\n",
      "|      23|   2835|\n",
      "|     138|   1816|\n",
      "|   27017|   1708|\n",
      "|   49152|   1286|\n",
      "|     139|   1004|\n",
      "|     389|    972|\n",
      "|      88|    964|\n",
      "+--------+-------+\n",
      "only showing top 20 rows\n",
      "\n"
     ]
    },
    {
     "name": "stderr",
     "output_type": "stream",
     "text": [
      "                                                                                \r"
     ]
    },
    {
     "name": "stdout",
     "output_type": "stream",
     "text": [
      "+---------------+--------+-------+\n",
      "|         Dst IP|Dst Port|  count|\n",
      "+---------------+--------+-------+\n",
      "|     172.31.0.2|      53|1965938|\n",
      "|   172.31.69.25|      80| 475283|\n",
      "|169.254.169.254|      80| 439436|\n",
      "|   172.31.69.28|      80| 250274|\n",
      "|   192.168.10.3|      53| 118089|\n",
      "|        8.0.6.4|       0|  75213|\n",
      "|   192.168.10.1|      53|  53501|\n",
      "|   178.255.83.1|      80|  39014|\n",
      "|    72.21.91.29|      80|  32189|\n",
      "|    23.52.91.27|      80|  29655|\n",
      "|   172.31.69.25|      21|  21245|\n",
      "| 72.167.239.239|      80|  19375|\n",
      "|    224.0.0.252|    5355|  14848|\n",
      "|   23.218.62.30|     443|  14448|\n",
      "|    31.13.65.36|     443|  13182|\n",
      "|     31.13.65.7|     443|  12980|\n",
      "|  172.31.64.103|    3128|  12825|\n",
      "| 216.58.211.162|     443|  10667|\n",
      "|  216.58.198.66|     443|  10433|\n",
      "|  13.89.190.129|     443|   9328|\n",
      "+---------------+--------+-------+\n",
      "only showing top 20 rows\n",
      "\n"
     ]
    },
    {
     "name": "stderr",
     "output_type": "stream",
     "text": [
      "[Stage 84:======================================================> (30 + 1) / 31]\r"
     ]
    },
    {
     "name": "stdout",
     "output_type": "stream",
     "text": [
      "+------------------+\n",
      "|(avg(_c0) / 60000)|\n",
      "+------------------+\n",
      "|58.635676683186915|\n",
      "+------------------+\n",
      "\n"
     ]
    },
    {
     "name": "stderr",
     "output_type": "stream",
     "text": [
      "                                                                                \r"
     ]
    }
   ],
   "source": [
    "from pyspark.sql.functions import split, explode, col, desc\n",
    "from pyspark.sql.functions import col, avg\n",
    "from pyspark.sql.types import StringType, IntegerType\n",
    "\n",
    "\n",
    "#plot quantos serviços diferentes um IP é atacado\n",
    "#dst_ip_port_distinct = df.distinct().groupBy(\"Dst IP\").count().orderBy(col(\"count\").desc())\n",
    "#dst_ip_port.show()\n",
    "\n",
    "#Quais IPs foram mais atacados:\n",
    "dst_ips = df.groupBy(\"Dst IP\").count().orderBy(col(\"count\").desc())\n",
    "dst_ips.show()\n",
    "\n",
    "#Quais IPs foram mais spoofados? \n",
    "src_ips = df.groupBy(\"Src IP\").count().orderBy(col(\"count\").desc())\n",
    "src_ips.show()\n",
    "\n",
    "#Quais portas/serviços foram mais atacados \n",
    "dst_port = df.groupBy(\"Dst Port\").count().orderBy(col(\"count\").desc())\n",
    "dst_port.show()\n",
    "\n",
    "#Quais IPs/serviços foram mais atacados?\n",
    "dst_ip_port = df.groupBy(\"Dst IP\",\"Dst Port\").count().orderBy(col(\"count\").desc())\n",
    "dst_ip_port.show()\n",
    "\n",
    "\n",
    "#Media de duração de um fluxo de ataque: (min)\n",
    "df = df.withColumn(\"_c0\",col(\"_c0\").cast(IntegerType()))\n",
    "flow = df.select(avg(col('_c0'))/60000)\n",
    "flow.show()\n"
   ]
  },
  {
   "cell_type": "code",
   "execution_count": null,
   "id": "999a3bdb",
   "metadata": {},
   "outputs": [],
   "source": []
  },
  {
   "cell_type": "code",
   "execution_count": null,
   "id": "3b63455f",
   "metadata": {},
   "outputs": [],
   "source": []
  }
 ],
 "metadata": {
  "kernelspec": {
   "display_name": "Python 3 (ipykernel)",
   "language": "python",
   "name": "python3"
  },
  "language_info": {
   "codemirror_mode": {
    "name": "ipython",
    "version": 3
   },
   "file_extension": ".py",
   "mimetype": "text/x-python",
   "name": "python",
   "nbconvert_exporter": "python",
   "pygments_lexer": "ipython3",
   "version": "3.9.2"
  }
 },
 "nbformat": 4,
 "nbformat_minor": 5
}
