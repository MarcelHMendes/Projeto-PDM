{
 "cells": [
  {
   "cell_type": "code",
   "execution_count": 1,
   "id": "51abaddc",
   "metadata": {},
   "outputs": [
    {
     "name": "stderr",
     "output_type": "stream",
     "text": [
      "22/02/20 01:45:58 WARN NativeCodeLoader: Unable to load native-hadoop library for your platform... using builtin-java classes where applicable\n",
      "Using Spark's default log4j profile: org/apache/spark/log4j-defaults.properties\n",
      "Setting default log level to \"WARN\".\n",
      "To adjust logging level use sc.setLogLevel(newLevel). For SparkR, use setLogLevel(newLevel).\n"
     ]
    }
   ],
   "source": [
    "from pyspark.sql import SparkSession\n",
    "\n",
    "spark = SparkSession.\\\n",
    "        builder.\\\n",
    "        appName(\"pyspark-notebook\").\\\n",
    "        master(\"spark://spark-master:7077\").\\\n",
    "        config(\"spark.executor.memory\", \"2g\").\\\n",
    "        getOrCreate()"
   ]
  },
  {
   "cell_type": "code",
   "execution_count": 8,
   "id": "450cbc92",
   "metadata": {},
   "outputs": [],
   "source": [
    "df = spark.read.option(\"header\", \"true\").csv(\"data/final_dataset.csv\")\n",
    "#df.printSchema()"
   ]
  },
  {
   "cell_type": "code",
   "execution_count": 9,
   "id": "5f5a7b76",
   "metadata": {},
   "outputs": [],
   "source": [
    "from pyspark.sql.functions import split, explode, col, desc\n",
    "\n",
    "#Limpando os dados\n",
    "df = df.where(col(\"Label\") != \"Benign\") #somente fluxos de trafego ddos\n",
    "df = df.where(col(\"Ack Flag Cnt\") == \"0\") #somente fluxos em forward direction(client -> servidor)"
   ]
  },
  {
   "cell_type": "code",
   "execution_count": 11,
   "id": "36c70c98",
   "metadata": {},
   "outputs": [
    {
     "name": "stderr",
     "output_type": "stream",
     "text": [
      "                                                                                \r"
     ]
    },
    {
     "name": "stdout",
     "output_type": "stream",
     "text": [
      "+---------------+------+\n",
      "|         Dst IP| count|\n",
      "+---------------+------+\n",
      "|   172.31.69.25|447572|\n",
      "|   172.31.69.28|165480|\n",
      "| 18.216.200.189| 93097|\n",
      "| 18.218.229.235| 92926|\n",
      "|  18.218.115.60| 92442|\n",
      "|   18.218.11.51| 92123|\n",
      "|   18.216.24.42| 91854|\n",
      "|     18.219.9.1| 91847|\n",
      "|   18.219.32.43| 91834|\n",
      "|  18.218.55.126| 91688|\n",
      "|  52.14.136.135| 91269|\n",
      "|    18.219.5.43| 91061|\n",
      "|  97.74.144.108|  9142|\n",
      "|   203.73.24.75|  8214|\n",
      "|      74.55.1.4|  4348|\n",
      "|  67.220.214.50|  3024|\n",
      "|  69.84.133.138|  2062|\n",
      "|  97.74.104.201|  1662|\n",
      "|   69.192.24.88|  1569|\n",
      "|208.113.162.153|   751|\n",
      "+---------------+------+\n",
      "\n"
     ]
    },
    {
     "name": "stderr",
     "output_type": "stream",
     "text": [
      "                                                                                \r"
     ]
    },
    {
     "name": "stdout",
     "output_type": "stream",
     "text": [
      "+--------------+------+\n",
      "|        Src IP| count|\n",
      "+--------------+------+\n",
      "|  172.31.69.28|920141|\n",
      "|  13.59.126.31|105550|\n",
      "|    18.219.9.1| 46150|\n",
      "|18.218.229.235| 46035|\n",
      "|18.216.200.189| 45825|\n",
      "| 52.14.136.135| 45810|\n",
      "| 18.218.55.126| 45685|\n",
      "|   18.219.5.43| 45531|\n",
      "|  18.216.24.42| 45467|\n",
      "|  18.218.11.51| 45397|\n",
      "|  18.219.32.43| 45256|\n",
      "| 18.218.115.60| 44410|\n",
      "|18.219.211.138| 26860|\n",
      "| 18.219.193.20| 17704|\n",
      "|  192.168.56.1| 12796|\n",
      "| 18.217.165.70|  7372|\n",
      "|192.168.56.102|  4990|\n",
      "| 192.168.2.109|  3633|\n",
      "| 192.168.2.110|  2906|\n",
      "| 192.168.3.114|  1296|\n",
      "+--------------+------+\n",
      "only showing top 20 rows\n",
      "\n"
     ]
    },
    {
     "name": "stderr",
     "output_type": "stream",
     "text": [
      "                                                                                \r"
     ]
    },
    {
     "name": "stdout",
     "output_type": "stream",
     "text": [
      "+--------+------+\n",
      "|Dst Port| count|\n",
      "+--------+------+\n",
      "|      80|539791|\n",
      "|      21|105550|\n",
      "|     443|    81|\n",
      "|   58819|    60|\n",
      "|   57051|    60|\n",
      "|   55371|    60|\n",
      "|   57904|    60|\n",
      "|   56315|    60|\n",
      "|   56525|    60|\n",
      "|   56831|    60|\n",
      "|   58163|    60|\n",
      "|   57085|    60|\n",
      "|   57112|    60|\n",
      "|   57464|    60|\n",
      "|   57483|    60|\n",
      "|   57496|    60|\n",
      "|   57569|    60|\n",
      "|   57608|    60|\n",
      "|   58185|    60|\n",
      "|   58197|    60|\n",
      "+--------+------+\n",
      "only showing top 20 rows\n",
      "\n"
     ]
    },
    {
     "name": "stderr",
     "output_type": "stream",
     "text": [
      "                                                                                \r"
     ]
    },
    {
     "name": "stdout",
     "output_type": "stream",
     "text": [
      "+---------------+--------+------+\n",
      "|         Dst IP|Dst Port| count|\n",
      "+---------------+--------+------+\n",
      "|   172.31.69.25|      80|342022|\n",
      "|   172.31.69.28|      80|165480|\n",
      "|   172.31.69.25|      21|105550|\n",
      "|  97.74.144.108|      80|  9142|\n",
      "|   203.73.24.75|      80|  8214|\n",
      "|      74.55.1.4|      80|  4348|\n",
      "|  67.220.214.50|      80|  3010|\n",
      "|  69.84.133.138|      80|  2062|\n",
      "|  97.74.104.201|      80|  1595|\n",
      "|   69.192.24.88|      80|  1569|\n",
      "|208.113.162.153|      80|   751|\n",
      "|  18.218.55.126|      80|   164|\n",
      "|   18.216.24.42|      80|   161|\n",
      "|    18.219.5.43|      80|   160|\n",
      "| 18.218.229.235|      80|   160|\n",
      "|   18.219.32.43|      80|   160|\n",
      "|     18.219.9.1|      80|   159|\n",
      "|  18.218.115.60|      80|   159|\n",
      "|   18.218.11.51|      80|   159|\n",
      "| 18.216.200.189|      80|   158|\n",
      "+---------------+--------+------+\n",
      "only showing top 20 rows\n",
      "\n"
     ]
    },
    {
     "name": "stderr",
     "output_type": "stream",
     "text": [
      "[Stage 32:======================================================> (50 + 1) / 51]\r"
     ]
    },
    {
     "name": "stdout",
     "output_type": "stream",
     "text": [
      "+----------------------------+\n",
      "|(avg(Flow Duration) / 60000)|\n",
      "+----------------------------+\n",
      "|          25.523000560509136|\n",
      "+----------------------------+\n",
      "\n"
     ]
    },
    {
     "name": "stderr",
     "output_type": "stream",
     "text": [
      "                                                                                \r"
     ]
    }
   ],
   "source": [
    "from pyspark.sql.functions import split, explode, col, desc\n",
    "from pyspark.sql.functions import col, avg\n",
    "from pyspark.sql.types import StringType, IntegerType\n",
    "\n",
    "#Quais IPs foram mais atacados:\n",
    "dst_ips = df.groupBy(\"Dst IP\").count().orderBy(col(\"count\").desc())\n",
    "dst_ips.show()\n",
    "\n",
    "#Quais IPs foram mais spoofados? \n",
    "src_ips = df.groupBy(\"Src IP\").count().orderBy(col(\"count\").desc())\n",
    "src_ips.show()\n",
    "\n",
    "#Quais portas/serviços foram mais atacados \n",
    "dst_port = df.groupBy(\"Dst Port\").count().orderBy(col(\"count\").desc())\n",
    "dst_port.show()\n",
    "\n",
    "#Quais IPs/serviços foram mais atacados?\n",
    "dst_ip_port = df.groupBy(\"Dst IP\",\"Dst Port\").count().orderBy(col(\"count\").desc())\n",
    "dst_ip_port.show()\n",
    "\n",
    "\n",
    "#Media de duração de um fluxo de ataque: (min)\n",
    "df = df.withColumn(\"Flow Duration\",col(\"Flow Duration\").cast(IntegerType()))\n",
    "flow = df.select(avg(col('Flow Duration'))/60000)\n",
    "flow.show()\n"
   ]
  },
  {
   "cell_type": "code",
   "execution_count": null,
   "id": "0f59ca13",
   "metadata": {},
   "outputs": [],
   "source": []
  },
  {
   "cell_type": "code",
   "execution_count": null,
   "id": "e7630e88",
   "metadata": {},
   "outputs": [],
   "source": []
  }
 ],
 "metadata": {
  "kernelspec": {
   "display_name": "Python 3 (ipykernel)",
   "language": "python",
   "name": "python3"
  },
  "language_info": {
   "codemirror_mode": {
    "name": "ipython",
    "version": 3
   },
   "file_extension": ".py",
   "mimetype": "text/x-python",
   "name": "python",
   "nbconvert_exporter": "python",
   "pygments_lexer": "ipython3",
   "version": "3.9.2"
  }
 },
 "nbformat": 4,
 "nbformat_minor": 5
}
