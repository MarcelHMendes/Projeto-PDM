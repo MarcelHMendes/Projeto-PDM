{
 "cells": [
  {
   "cell_type": "code",
   "execution_count": 1,
   "id": "32b80e40",
   "metadata": {},
   "outputs": [
    {
     "name": "stderr",
     "output_type": "stream",
     "text": [
      "22/02/17 16:57:35 WARN NativeCodeLoader: Unable to load native-hadoop library for your platform... using builtin-java classes where applicable\n",
      "Using Spark's default log4j profile: org/apache/spark/log4j-defaults.properties\n",
      "Setting default log level to \"WARN\".\n",
      "To adjust logging level use sc.setLogLevel(newLevel). For SparkR, use setLogLevel(newLevel).\n"
     ]
    }
   ],
   "source": [
    "from pyspark.sql import SparkSession\n",
    "\n",
    "spark = SparkSession.\\\n",
    "        builder.\\\n",
    "        appName(\"pyspark-notebook\").\\\n",
    "        master(\"spark://spark-master:7077\").\\\n",
    "        config(\"spark.executor.memory\", \"2g\").\\\n",
    "        getOrCreate()"
   ]
  },
  {
   "cell_type": "code",
   "execution_count": 10,
   "id": "c35dedcb",
   "metadata": {},
   "outputs": [
    {
     "name": "stdout",
     "output_type": "stream",
     "text": [
      "root\n",
      " |-- _c0: string (nullable = true)\n",
      " |-- Flow ID: string (nullable = true)\n",
      " |-- Src IP: string (nullable = true)\n",
      " |-- Src Port: string (nullable = true)\n",
      " |-- Dst IP: string (nullable = true)\n",
      " |-- Dst Port: string (nullable = true)\n",
      " |-- Protocol: string (nullable = true)\n",
      " |-- Timestamp: string (nullable = true)\n",
      " |-- Flow Duration: string (nullable = true)\n",
      " |-- Tot Fwd Pkts: string (nullable = true)\n",
      " |-- Tot Bwd Pkts: string (nullable = true)\n",
      " |-- TotLen Fwd Pkts: string (nullable = true)\n",
      " |-- TotLen Bwd Pkts: string (nullable = true)\n",
      " |-- Fwd Pkt Len Max: string (nullable = true)\n",
      " |-- Fwd Pkt Len Min: string (nullable = true)\n",
      " |-- Fwd Pkt Len Mean: string (nullable = true)\n",
      " |-- Fwd Pkt Len Std: string (nullable = true)\n",
      " |-- Bwd Pkt Len Max: string (nullable = true)\n",
      " |-- Bwd Pkt Len Min: string (nullable = true)\n",
      " |-- Bwd Pkt Len Mean: string (nullable = true)\n",
      " |-- Bwd Pkt Len Std: string (nullable = true)\n",
      " |-- Flow Byts/s: string (nullable = true)\n",
      " |-- Flow Pkts/s: string (nullable = true)\n",
      " |-- Flow IAT Mean: string (nullable = true)\n",
      " |-- Flow IAT Std: string (nullable = true)\n",
      " |-- Flow IAT Max: string (nullable = true)\n",
      " |-- Flow IAT Min: string (nullable = true)\n",
      " |-- Fwd IAT Tot: string (nullable = true)\n",
      " |-- Fwd IAT Mean: string (nullable = true)\n",
      " |-- Fwd IAT Std: string (nullable = true)\n",
      " |-- Fwd IAT Max: string (nullable = true)\n",
      " |-- Fwd IAT Min: string (nullable = true)\n",
      " |-- Bwd IAT Tot: string (nullable = true)\n",
      " |-- Bwd IAT Mean: string (nullable = true)\n",
      " |-- Bwd IAT Std: string (nullable = true)\n",
      " |-- Bwd IAT Max: string (nullable = true)\n",
      " |-- Bwd IAT Min: string (nullable = true)\n",
      " |-- Fwd PSH Flags: string (nullable = true)\n",
      " |-- Bwd PSH Flags: string (nullable = true)\n",
      " |-- Fwd URG Flags: string (nullable = true)\n",
      " |-- Bwd URG Flags: string (nullable = true)\n",
      " |-- Fwd Header Len: string (nullable = true)\n",
      " |-- Bwd Header Len: string (nullable = true)\n",
      " |-- Fwd Pkts/s: string (nullable = true)\n",
      " |-- Bwd Pkts/s: string (nullable = true)\n",
      " |-- Pkt Len Min: string (nullable = true)\n",
      " |-- Pkt Len Max: string (nullable = true)\n",
      " |-- Pkt Len Mean: string (nullable = true)\n",
      " |-- Pkt Len Std: string (nullable = true)\n",
      " |-- Pkt Len Var: string (nullable = true)\n",
      " |-- FIN Flag Cnt: string (nullable = true)\n",
      " |-- SYN Flag Cnt: string (nullable = true)\n",
      " |-- RST Flag Cnt: string (nullable = true)\n",
      " |-- PSH Flag Cnt: string (nullable = true)\n",
      " |-- ACK Flag Cnt: string (nullable = true)\n",
      " |-- URG Flag Cnt: string (nullable = true)\n",
      " |-- CWE Flag Count: string (nullable = true)\n",
      " |-- ECE Flag Cnt: string (nullable = true)\n",
      " |-- Down/Up Ratio: string (nullable = true)\n",
      " |-- Pkt Size Avg: string (nullable = true)\n",
      " |-- Fwd Seg Size Avg: string (nullable = true)\n",
      " |-- Bwd Seg Size Avg: string (nullable = true)\n",
      " |-- Fwd Byts/b Avg: string (nullable = true)\n",
      " |-- Fwd Pkts/b Avg: string (nullable = true)\n",
      " |-- Fwd Blk Rate Avg: string (nullable = true)\n",
      " |-- Bwd Byts/b Avg: string (nullable = true)\n",
      " |-- Bwd Pkts/b Avg: string (nullable = true)\n",
      " |-- Bwd Blk Rate Avg: string (nullable = true)\n",
      " |-- Subflow Fwd Pkts: string (nullable = true)\n",
      " |-- Subflow Fwd Byts: string (nullable = true)\n",
      " |-- Subflow Bwd Pkts: string (nullable = true)\n",
      " |-- Subflow Bwd Byts: string (nullable = true)\n",
      " |-- Init Fwd Win Byts: string (nullable = true)\n",
      " |-- Init Bwd Win Byts: string (nullable = true)\n",
      " |-- Fwd Act Data Pkts: string (nullable = true)\n",
      " |-- Fwd Seg Size Min: string (nullable = true)\n",
      " |-- Active Mean: string (nullable = true)\n",
      " |-- Active Std: string (nullable = true)\n",
      " |-- Active Max: string (nullable = true)\n",
      " |-- Active Min: string (nullable = true)\n",
      " |-- Idle Mean: string (nullable = true)\n",
      " |-- Idle Std: string (nullable = true)\n",
      " |-- Idle Max: string (nullable = true)\n",
      " |-- Idle Min: string (nullable = true)\n",
      " |-- Label: string (nullable = true)\n",
      "\n"
     ]
    }
   ],
   "source": [
    "df = spark.read.option(\"header\", \"true\").csv(\"data/final_dataset.csv\")\n",
    "df.printSchema()"
   ]
  },
  {
   "cell_type": "code",
   "execution_count": null,
   "id": "344a019c",
   "metadata": {},
   "outputs": [],
   "source": [
    "import sys\n",
    "!{sys.executable} -m pip install numpy\n",
    "!{sys.executable} -m pip install pandas"
   ]
  },
  {
   "cell_type": "code",
   "execution_count": null,
   "id": "548a26e5",
   "metadata": {},
   "outputs": [],
   "source": [
    "from pyspark.ml.feature import QuantileDiscretizer\n",
    "\n",
    "discretizer = QuantileDiscretizer(numBuckets=3, inputCol=\"hour\", outputCol=\"result\")\n",
    "\n",
    "result = discretizer.fit(df).transform(df)\n",
    "result.show()"
   ]
  },
  {
   "cell_type": "code",
   "execution_count": 3,
   "id": "d0f05abd",
   "metadata": {},
   "outputs": [],
   "source": [
    "from pyspark.sql.functions import split, explode, col, desc\n",
    "from pyspark.ml import Pipeline \n",
    "from pyspark.ml.feature import VectorAssembler \n",
    "from pyspark.ml.feature import StringIndexer \n",
    "from pyspark.ml.classification import NaiveBayes \n",
    "from pyspark.ml.evaluation import MulticlassClassificationEvaluator\n",
    "\n",
    "indexers = [\n",
    "StringIndexer(inputCol=\"Dst IP\", outputCol = \"dstip_index\"),\n",
    "StringIndexer(inputCol=\"FIN Flag Cnt\", outputCol = \"fin_index\"),\n",
    "StringIndexer(inputCol=\"SYN Flag Cnt\", outputCol = \"syn_index\"),\n",
    "StringIndexer(inputCol=\"URG Flag Cnt\", outputCol = \"urg_index\"),\n",
    "StringIndexer(inputCol=\"PSH Flag Cnt\", outputCol = \"cwe_index\"),\n",
    "StringIndexer(inputCol=\"ECE Flag Cnt\", outputCol = \"ece_index\"),\n",
    "StringIndexer(inputCol=\"Label\", outputCol = \"label\")]"
   ]
  },
  {
   "cell_type": "code",
   "execution_count": 4,
   "id": "3fb834de",
   "metadata": {},
   "outputs": [
    {
     "name": "stderr",
     "output_type": "stream",
     "text": [
      "22/02/17 16:57:58 WARN package: Truncated the string representation of a plan since it was too large. This behavior can be adjusted by setting 'spark.sql.debug.maxToStringFields'.\n",
      "22/02/17 17:04:14 WARN DAGScheduler: Broadcasting large task binary with size 1284.0 KiB\n"
     ]
    },
    {
     "name": "stdout",
     "output_type": "stream",
     "text": [
      "+------------+------------+------------+------------+------------+------------+-----+-----------+---------+---------+---------+---------+---------+\n",
      "|Dst IP      |FIN Flag Cnt|SYN Flag Cnt|URG Flag Cnt|PSH Flag Cnt|ECE Flag Cnt|label|dstip_index|fin_index|syn_index|urg_index|cwe_index|ece_index|\n",
      "+------------+------------+------------+------------+------------+------------+-----+-----------+---------+---------+---------+---------+---------+\n",
      "|203.73.24.75|0           |1           |0           |0           |0           |0.0  |25.0       |0.0      |1.0      |0.0      |0.0      |0.0      |\n",
      "|203.73.24.75|0           |0           |0           |0           |0           |0.0  |25.0       |0.0      |0.0      |0.0      |0.0      |0.0      |\n",
      "|203.73.24.75|0           |1           |0           |0           |0           |0.0  |25.0       |0.0      |1.0      |0.0      |0.0      |0.0      |\n",
      "|203.73.24.75|0           |0           |0           |0           |0           |0.0  |25.0       |0.0      |0.0      |0.0      |0.0      |0.0      |\n",
      "|203.73.24.75|0           |1           |0           |0           |0           |0.0  |25.0       |0.0      |1.0      |0.0      |0.0      |0.0      |\n",
      "+------------+------------+------------+------------+------------+------------+-----+-----------+---------+---------+---------+---------+---------+\n",
      "only showing top 5 rows\n",
      "\n"
     ]
    }
   ],
   "source": [
    "pipeline = Pipeline(stages=indexers)\n",
    "df = df.select(\"Dst IP\", \n",
    "               \"FIN Flag Cnt\", \n",
    "               \"SYN Flag Cnt\", \n",
    "               \"URG Flag Cnt\",\n",
    "               \"PSH Flag Cnt\",\n",
    "               \"ECE Flag Cnt\",\n",
    "               \"Label\"\n",
    "              )\n",
    "#df = df.sample(fraction=0.3)\n",
    "indexed_rows_df = pipeline.fit(df).transform(df)\n",
    "indexed_rows_df.show(5, False)"
   ]
  },
  {
   "cell_type": "code",
   "execution_count": 5,
   "id": "416b8594",
   "metadata": {},
   "outputs": [
    {
     "name": "stderr",
     "output_type": "stream",
     "text": [
      "22/02/17 17:04:40 WARN DAGScheduler: Broadcasting large task binary with size 1290.9 KiB\n"
     ]
    },
    {
     "name": "stdout",
     "output_type": "stream",
     "text": [
      "+------------+------------+------------+------------+------------+------------+-----+-----------+---------+---------+---------+---------+---------+--------------------+\n",
      "|Dst IP      |FIN Flag Cnt|SYN Flag Cnt|URG Flag Cnt|PSH Flag Cnt|ECE Flag Cnt|label|dstip_index|fin_index|syn_index|urg_index|cwe_index|ece_index|features            |\n",
      "+------------+------------+------------+------------+------------+------------+-----+-----------+---------+---------+---------+---------+---------+--------------------+\n",
      "|203.73.24.75|0           |1           |0           |0           |0           |0.0  |25.0       |0.0      |1.0      |0.0      |0.0      |0.0      |(6,[0,2],[25.0,1.0])|\n",
      "|203.73.24.75|0           |0           |0           |0           |0           |0.0  |25.0       |0.0      |0.0      |0.0      |0.0      |0.0      |(6,[0],[25.0])      |\n",
      "|203.73.24.75|0           |1           |0           |0           |0           |0.0  |25.0       |0.0      |1.0      |0.0      |0.0      |0.0      |(6,[0,2],[25.0,1.0])|\n",
      "|203.73.24.75|0           |0           |0           |0           |0           |0.0  |25.0       |0.0      |0.0      |0.0      |0.0      |0.0      |(6,[0],[25.0])      |\n",
      "|203.73.24.75|0           |1           |0           |0           |0           |0.0  |25.0       |0.0      |1.0      |0.0      |0.0      |0.0      |(6,[0,2],[25.0,1.0])|\n",
      "+------------+------------+------------+------------+------------+------------+-----+-----------+---------+---------+---------+---------+---------+--------------------+\n",
      "only showing top 5 rows\n",
      "\n"
     ]
    }
   ],
   "source": [
    "vectorAssembler = VectorAssembler(inputCols = [\"dstip_index\",\"fin_index\", \"syn_index\", \"urg_index\", \"cwe_index\",\"ece_index\"],outputCol = \"features\")\n",
    "vindexed_rows_df = vectorAssembler.transform(indexed_rows_df)\n",
    "vindexed_rows_df.show(5, False)"
   ]
  },
  {
   "cell_type": "code",
   "execution_count": 6,
   "id": "6e8e8af1",
   "metadata": {},
   "outputs": [],
   "source": [
    "splits = vindexed_rows_df.randomSplit([0.6,0.4], 42) \n",
    "# optional value 42 is seed for sampling \n",
    "train_df = splits[0] \n",
    "test_df = splits[1]"
   ]
  },
  {
   "cell_type": "code",
   "execution_count": 7,
   "id": "a84342cb",
   "metadata": {},
   "outputs": [
    {
     "name": "stderr",
     "output_type": "stream",
     "text": [
      "22/02/17 17:04:46 WARN DAGScheduler: Broadcasting large task binary with size 1323.7 KiB\n",
      "22/02/17 17:06:07 WARN DAGScheduler: Broadcasting large task binary with size 1302.5 KiB\n",
      "                                                                                \r"
     ]
    }
   ],
   "source": [
    "nb = NaiveBayes(modelType=\"multinomial\")\n",
    "nbmodel = nb.fit(train_df)"
   ]
  },
  {
   "cell_type": "code",
   "execution_count": 8,
   "id": "bdf14a3f",
   "metadata": {},
   "outputs": [
    {
     "name": "stderr",
     "output_type": "stream",
     "text": [
      "22/02/17 17:08:40 WARN DAGScheduler: Broadcasting large task binary with size 1327.4 KiB\n",
      "[Stage 19:>                                                         (0 + 1) / 1]\r"
     ]
    },
    {
     "name": "stdout",
     "output_type": "stream",
     "text": [
      "+------------+------------+------------+------------+------------+------------+-----+-----------+---------+---------+---------+---------+---------+---------+--------------------+--------------------+----------+\n",
      "|      Dst IP|FIN Flag Cnt|SYN Flag Cnt|URG Flag Cnt|PSH Flag Cnt|ECE Flag Cnt|label|dstip_index|fin_index|syn_index|urg_index|cwe_index|ece_index| features|       rawPrediction|         probability|prediction|\n",
      "+------------+------------+------------+------------+------------+------------+-----+-----------+---------+---------+---------+---------+---------+---------+--------------------+--------------------+----------+\n",
      "|172.31.69.25|           0|           0|           0|           0|           0|  0.0|        0.0|      0.0|      0.0|      0.0|      0.0|      0.0|(6,[],[])|[-0.6812565473673...|[0.50598080390174...|       0.0|\n",
      "|172.31.69.25|           0|           0|           0|           0|           0|  0.0|        0.0|      0.0|      0.0|      0.0|      0.0|      0.0|(6,[],[])|[-0.6812565473673...|[0.50598080390174...|       0.0|\n",
      "|172.31.69.25|           0|           0|           0|           0|           0|  0.0|        0.0|      0.0|      0.0|      0.0|      0.0|      0.0|(6,[],[])|[-0.6812565473673...|[0.50598080390174...|       0.0|\n",
      "|172.31.69.25|           0|           0|           0|           0|           0|  0.0|        0.0|      0.0|      0.0|      0.0|      0.0|      0.0|(6,[],[])|[-0.6812565473673...|[0.50598080390174...|       0.0|\n",
      "|172.31.69.25|           0|           0|           0|           0|           0|  0.0|        0.0|      0.0|      0.0|      0.0|      0.0|      0.0|(6,[],[])|[-0.6812565473673...|[0.50598080390174...|       0.0|\n",
      "+------------+------------+------------+------------+------------+------------+-----+-----------+---------+---------+---------+---------+---------+---------+--------------------+--------------------+----------+\n",
      "only showing top 5 rows\n",
      "\n"
     ]
    },
    {
     "name": "stderr",
     "output_type": "stream",
     "text": [
      "                                                                                \r"
     ]
    }
   ],
   "source": [
    "predictions_df = nbmodel.transform(test_df)\n",
    "predictions_df.show(5, True)"
   ]
  },
  {
   "cell_type": "code",
   "execution_count": 9,
   "id": "2a1ff04c",
   "metadata": {},
   "outputs": [
    {
     "name": "stderr",
     "output_type": "stream",
     "text": [
      "22/02/17 17:08:47 WARN DAGScheduler: Broadcasting large task binary with size 1324.5 KiB\n",
      "[Stage 20:======================================================> (50 + 1) / 51]\r"
     ]
    },
    {
     "name": "stdout",
     "output_type": "stream",
     "text": [
      "Test accuracy = 0.7389105148836407\n"
     ]
    },
    {
     "name": "stderr",
     "output_type": "stream",
     "text": [
      "                                                                                \r"
     ]
    }
   ],
   "source": [
    "evaluator = MulticlassClassificationEvaluator(labelCol=\"label\", predictionCol=\"prediction\", metricName=\"accuracy\") \n",
    "nbaccuracy = evaluator.evaluate(predictions_df) \n",
    "print(\"Test accuracy = \" + str(nbaccuracy))"
   ]
  },
  {
   "cell_type": "code",
   "execution_count": null,
   "id": "2fc950af",
   "metadata": {},
   "outputs": [],
   "source": []
  }
 ],
 "metadata": {
  "kernelspec": {
   "display_name": "Python 3 (ipykernel)",
   "language": "python",
   "name": "python3"
  },
  "language_info": {
   "codemirror_mode": {
    "name": "ipython",
    "version": 3
   },
   "file_extension": ".py",
   "mimetype": "text/x-python",
   "name": "python",
   "nbconvert_exporter": "python",
   "pygments_lexer": "ipython3",
   "version": "3.9.2"
  }
 },
 "nbformat": 4,
 "nbformat_minor": 5
}
