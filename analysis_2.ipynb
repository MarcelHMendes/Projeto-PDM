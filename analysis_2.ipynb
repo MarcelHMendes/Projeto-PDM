{
 "cells": [
  {
   "cell_type": "code",
   "execution_count": 1,
   "id": "8ddc4bab",
   "metadata": {},
   "outputs": [
    {
     "name": "stderr",
     "output_type": "stream",
     "text": [
      "22/02/20 19:58:16 WARN NativeCodeLoader: Unable to load native-hadoop library for your platform... using builtin-java classes where applicable\n",
      "Using Spark's default log4j profile: org/apache/spark/log4j-defaults.properties\n",
      "Setting default log level to \"WARN\".\n",
      "To adjust logging level use sc.setLogLevel(newLevel). For SparkR, use setLogLevel(newLevel).\n"
     ]
    }
   ],
   "source": [
    "from pyspark.sql import SparkSession\n",
    "\n",
    "spark = SparkSession.\\\n",
    "        builder.\\\n",
    "        appName(\"pyspark-notebook\").\\\n",
    "        master(\"spark://spark-master:7077\").\\\n",
    "        config(\"spark.executor.memory\", \"2g\").\\\n",
    "        getOrCreate()"
   ]
  },
  {
   "cell_type": "code",
   "execution_count": 9,
   "id": "538720d2",
   "metadata": {},
   "outputs": [
    {
     "name": "stderr",
     "output_type": "stream",
     "text": [
      "                                                                                \r"
     ]
    }
   ],
   "source": [
    "df = spark.read.option(\"header\", \"true\").csv(\"data/final_dataset.csv\")\n"
   ]
  },
  {
   "cell_type": "code",
   "execution_count": 10,
   "id": "18e1f272",
   "metadata": {},
   "outputs": [],
   "source": [
    "from pyspark.sql.functions import split, explode, col, desc\n",
    "\n",
    "df_benign = df.where(col(\"Label\") == \"Benign\")\n",
    "df_ddos = df.where(col(\"Label\") != \"Benign\")\n"
   ]
  },
  {
   "cell_type": "code",
   "execution_count": 11,
   "id": "a0b2089e",
   "metadata": {},
   "outputs": [
    {
     "name": "stderr",
     "output_type": "stream",
     "text": [
      "                                                                                \r"
     ]
    },
    {
     "name": "stdout",
     "output_type": "stream",
     "text": [
      "+------------------+\n",
      "|  avg(Pkt Len Min)|\n",
      "+------------------+\n",
      "|14.473342528764723|\n",
      "+------------------+\n",
      "\n"
     ]
    },
    {
     "name": "stderr",
     "output_type": "stream",
     "text": [
      "                                                                                \r"
     ]
    },
    {
     "name": "stdout",
     "output_type": "stream",
     "text": [
      "+-------------------+\n",
      "|   avg(Pkt Len Min)|\n",
      "+-------------------+\n",
      "|0.02044001472658713|\n",
      "+-------------------+\n",
      "\n"
     ]
    },
    {
     "name": "stderr",
     "output_type": "stream",
     "text": [
      "                                                                                \r"
     ]
    },
    {
     "name": "stdout",
     "output_type": "stream",
     "text": [
      "+------------------+\n",
      "|  avg(Pkt Len Max)|\n",
      "+------------------+\n",
      "|396.01948709106955|\n",
      "+------------------+\n",
      "\n"
     ]
    },
    {
     "name": "stderr",
     "output_type": "stream",
     "text": [
      "[Stage 26:======================================================> (50 + 1) / 51]\r"
     ]
    },
    {
     "name": "stdout",
     "output_type": "stream",
     "text": [
      "+-----------------+\n",
      "| avg(Pkt Len Max)|\n",
      "+-----------------+\n",
      "|468.0883803797735|\n",
      "+-----------------+\n",
      "\n"
     ]
    },
    {
     "name": "stderr",
     "output_type": "stream",
     "text": [
      "                                                                                \r"
     ]
    }
   ],
   "source": [
    "from pyspark.sql.functions import split, explode, col, desc\n",
    "from pyspark.sql.functions import col, avg\n",
    "from pyspark.sql.types import StringType, IntegerType, FloatType\n",
    "\n",
    "#Comparações entre trafegos legitimos e ddos\n",
    "#Media de Pkt len min (menor tamanho de um pacote em um fluxo) \n",
    "\n",
    "df_benign = df_benign.withColumn(\"Pkt Len Min\",col(\"Pkt Len Min\").cast(FloatType()))\n",
    "df_ddos = df_ddos.withColumn(\"Pkt Len Min\",col(\"Pkt Len Min\").cast(FloatType()))\n",
    "\n",
    "df_b = df_benign.select(avg(col(\"Pkt Len Min\")))\n",
    "df_d = df_ddos.select(avg(col(\"Pkt Len Min\")))\n",
    "df_b.show()\n",
    "df_d.show()"
   ]
  },
  {
   "cell_type": "code",
   "execution_count": null,
   "id": "07478cbf",
   "metadata": {},
   "outputs": [],
   "source": [
    "#Media de Pkt len max (maior tamanho de um pacote em um fluxo)\n",
    "\n",
    "df_benign = df_benign.withColumn(\"Pkt Len Max\",col(\"Pkt Len Max\").cast(FloatType()))\n",
    "df_ddos = df_ddos.withColumn(\"Pkt Len Max\",col(\"Pkt Len Max\").cast(FloatType()))\n",
    "\n",
    "df_b = df_benign.select(avg(col(\"Pkt Len Max\")))\n",
    "df_d = df_ddos.select(avg(col(\"Pkt Len Max\")))\n",
    "df_b.show()\n",
    "df_d.show()"
   ]
  },
  {
   "cell_type": "code",
   "execution_count": 12,
   "id": "f4d03f01",
   "metadata": {},
   "outputs": [
    {
     "name": "stderr",
     "output_type": "stream",
     "text": [
      "                                                                                \r"
     ]
    },
    {
     "name": "stdout",
     "output_type": "stream",
     "text": [
      "+--------------------+\n",
      "|avg(TotLen Fwd Pkts)|\n",
      "+--------------------+\n",
      "|  387.44362019493894|\n",
      "+--------------------+\n",
      "\n"
     ]
    },
    {
     "name": "stderr",
     "output_type": "stream",
     "text": [
      "[Stage 30:======================================================> (50 + 1) / 51]\r"
     ]
    },
    {
     "name": "stdout",
     "output_type": "stream",
     "text": [
      "+--------------------+\n",
      "|avg(TotLen Fwd Pkts)|\n",
      "+--------------------+\n",
      "|  1846.8235483875453|\n",
      "+--------------------+\n",
      "\n"
     ]
    },
    {
     "name": "stderr",
     "output_type": "stream",
     "text": [
      "                                                                                \r"
     ]
    }
   ],
   "source": [
    "#Media de Total pkts in forward direction\n",
    "\n",
    "df_benign = df_benign.withColumn(\"TotLen Fwd Pkts\",col(\"TotLen Fwd Pkts\").cast(FloatType()))\n",
    "df_ddos = df_ddos.withColumn(\"TotLen Fwd Pkts\",col(\"TotLen Fwd Pkts\").cast(FloatType()))\n",
    "\n",
    "df_b = df_benign.select(avg(col(\"TotLen Fwd Pkts\")))\n",
    "df_d = df_ddos.select(avg(col(\"TotLen Fwd Pkts\")))\n",
    "df_b.show()\n",
    "df_d.show()"
   ]
  },
  {
   "cell_type": "code",
   "execution_count": null,
   "id": "116b6833",
   "metadata": {},
   "outputs": [],
   "source": []
  }
 ],
 "metadata": {
  "kernelspec": {
   "display_name": "Python 3 (ipykernel)",
   "language": "python",
   "name": "python3"
  },
  "language_info": {
   "codemirror_mode": {
    "name": "ipython",
    "version": 3
   },
   "file_extension": ".py",
   "mimetype": "text/x-python",
   "name": "python",
   "nbconvert_exporter": "python",
   "pygments_lexer": "ipython3",
   "version": "3.9.2"
  }
 },
 "nbformat": 4,
 "nbformat_minor": 5
}
